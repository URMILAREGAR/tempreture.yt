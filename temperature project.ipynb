{
 "cells": [
  {
   "cell_type": "code",
   "execution_count": 1,
   "id": "797f2100",
   "metadata": {},
   "outputs": [],
   "source": [
    "import numpy as np"
   ]
  },
  {
   "cell_type": "code",
   "execution_count": 2,
   "id": "f3f7d6de",
   "metadata": {},
   "outputs": [],
   "source": [
    "#1.Representation of numpy array\n",
    "l=np.array([[[[11,8,6,12,7,9,8],[28,32,24,25,28,27,32]],        \n",
    "                 [[7,10,10,-13,8,14,9],[26,31,25,21,28,30,22]],\n",
    "                 [[9,6,13,8,6,6,13],[24,30,24,27,25,20,25]],\n",
    "                 [[13,13,13,6,15,7,9],[29,20,24,23,21,24,29]]],\n",
    " \n",
    "                [[[11,8,11,9,13,11,9],[24,24,24,31,20,23,32]],\n",
    "                 [[13,7,10,15,13,7,10],[29,29,24,25,28,32,28]],\n",
    "                 [[8,13,8,8,15,12,11],[30,27,28,21,27,31,25]],\n",
    "                 [[13,12,15,13,11,7,6],[29,26,30,26,22,32,27]]],\n",
    "\n",
    "                [[[5,3,4,5,3,3,21],[19,18,18,18,22,2,5]],\n",
    "                 [[5,6,6,4,7,7,21],[20,18,19,20,20,7,2]],\n",
    "                 [[7,6,5,7,7,5,19],[20,20,22,18,20,4,3]],\n",
    "                 [[8,7,6,2,6,4,18],[20,19,22,18,19,4,7]]],\n",
    "                \n",
    "                [[[7,10,-10,11,11,11,22],[21,20,19,18,20,71,12]],\n",
    "                 [[10,7,8,7,10,7,19],[21,22,21,18,20,7,8]],\n",
    "                 [[10,10,12,7,7,7,21],[20,22,22,21,21,12,12]],\n",
    "                 [[7,7,8,10,11,12,18],[21,22,21,18,18,10,7]]]])\n"
   ]
  },
  {
   "cell_type": "code",
   "execution_count": 3,
   "id": "572669e3",
   "metadata": {
    "scrolled": true
   },
   "outputs": [
    {
     "data": {
      "text/plain": [
       "array([[[[ 11,   8,   6,  12,   7,   9,   8],\n",
       "         [ 28,  32,  24,  25,  28,  27,  32]],\n",
       "\n",
       "        [[  7,  10,  10, -13,   8,  14,   9],\n",
       "         [ 26,  31,  25,  21,  28,  30,  22]],\n",
       "\n",
       "        [[  9,   6,  13,   8,   6,   6,  13],\n",
       "         [ 24,  30,  24,  27,  25,  20,  25]],\n",
       "\n",
       "        [[ 13,  13,  13,   6,  15,   7,   9],\n",
       "         [ 29,  20,  24,  23,  21,  24,  29]]],\n",
       "\n",
       "\n",
       "       [[[ 11,   8,  11,   9,  13,  11,   9],\n",
       "         [ 24,  24,  24,  31,  20,  23,  32]],\n",
       "\n",
       "        [[ 13,   7,  10,  15,  13,   7,  10],\n",
       "         [ 29,  29,  24,  25,  28,  32,  28]],\n",
       "\n",
       "        [[  8,  13,   8,   8,  15,  12,  11],\n",
       "         [ 30,  27,  28,  21,  27,  31,  25]],\n",
       "\n",
       "        [[ 13,  12,  15,  13,  11,   7,   6],\n",
       "         [ 29,  26,  30,  26,  22,  32,  27]]],\n",
       "\n",
       "\n",
       "       [[[  5,   3,   4,   5,   3,   3,  21],\n",
       "         [ 19,  18,  18,  18,  22,   2,   5]],\n",
       "\n",
       "        [[  5,   6,   6,   4,   7,   7,  21],\n",
       "         [ 20,  18,  19,  20,  20,   7,   2]],\n",
       "\n",
       "        [[  7,   6,   5,   7,   7,   5,  19],\n",
       "         [ 20,  20,  22,  18,  20,   4,   3]],\n",
       "\n",
       "        [[  8,   7,   6,   2,   6,   4,  18],\n",
       "         [ 20,  19,  22,  18,  19,   4,   7]]],\n",
       "\n",
       "\n",
       "       [[[  7,  10, -10,  11,  11,  11,  22],\n",
       "         [ 21,  20,  19,  18,  20,  71,  12]],\n",
       "\n",
       "        [[ 10,   7,   8,   7,  10,   7,  19],\n",
       "         [ 21,  22,  21,  18,  20,   7,   8]],\n",
       "\n",
       "        [[ 10,  10,  12,   7,   7,   7,  21],\n",
       "         [ 20,  22,  22,  21,  21,  12,  12]],\n",
       "\n",
       "        [[  7,   7,   8,  10,  11,  12,  18],\n",
       "         [ 21,  22,  21,  18,  18,  10,   7]]]])"
      ]
     },
     "execution_count": 3,
     "metadata": {},
     "output_type": "execute_result"
    }
   ],
   "source": [
    "\n",
    "l"
   ]
  },
  {
   "cell_type": "code",
   "execution_count": 4,
   "id": "44965303",
   "metadata": {},
   "outputs": [
    {
     "data": {
      "text/plain": [
       "(4, 4, 2, 7)"
      ]
     },
     "execution_count": 4,
     "metadata": {},
     "output_type": "execute_result"
    }
   ],
   "source": [
    "#2.shape and dimention of created array\n",
    "l.shape"
   ]
  },
  {
   "cell_type": "code",
   "execution_count": 5,
   "id": "372ea3bd",
   "metadata": {},
   "outputs": [
    {
     "data": {
      "text/plain": [
       "array([[11,  8,  6, 12,  7,  9,  8],\n",
       "       [28, 32, 24, 25, 28, 27, 32]])"
      ]
     },
     "execution_count": 5,
     "metadata": {},
     "output_type": "execute_result"
    }
   ],
   "source": [
    "l[0,0]"
   ]
  },
  {
   "cell_type": "code",
   "execution_count": 6,
   "id": "467bffcc",
   "metadata": {},
   "outputs": [
    {
     "name": "stdout",
     "output_type": "stream",
     "text": [
      "[[11  8  6 12  7  9  8]\n",
      " [28 32 24 25 28 27 32]]\n",
      "[[11  8 11  9 13 11  9]\n",
      " [24 24 24 31 20 23 32]]\n",
      "[[ 5  3  4  5  3  3 21]\n",
      " [19 18 18 18 22  2  5]]\n",
      "[[  7  10 -10  11  11  11  22]\n",
      " [ 21  20  19  18  20  71  12]]\n"
     ]
    }
   ],
   "source": [
    "for i in range(4):\n",
    "    print(l[i,0])"
   ]
  },
  {
   "cell_type": "code",
   "execution_count": 7,
   "id": "04073a33",
   "metadata": {},
   "outputs": [
    {
     "name": "stdout",
     "output_type": "stream",
     "text": [
      "[[  7  10 -10  11  11  11  22]\n",
      " [ 21  20  19  18  20  71  12]]\n"
     ]
    }
   ],
   "source": [
    "#do slicing(:)\n",
    "print(l[i,0])"
   ]
  },
  {
   "cell_type": "code",
   "execution_count": 8,
   "id": "3f78f5a7",
   "metadata": {},
   "outputs": [
    {
     "data": {
      "text/plain": [
       "array([[11,  8,  6, 12,  7],\n",
       "       [28, 32, 24, 25, 28]])"
      ]
     },
     "execution_count": 8,
     "metadata": {},
     "output_type": "execute_result"
    }
   ],
   "source": [
    "#1st row min temp rpst\n",
    "#2nd row rpst max temp\n",
    "l[0,0,:,:5]"
   ]
  },
  {
   "cell_type": "code",
   "execution_count": 9,
   "id": "800c9cd0",
   "metadata": {},
   "outputs": [
    {
     "data": {
      "text/plain": [
       "array([[[ 8, 32],\n",
       "        [10, 31],\n",
       "        [ 6, 30],\n",
       "        [13, 20]],\n",
       "\n",
       "       [[ 8, 24],\n",
       "        [ 7, 29],\n",
       "        [13, 27],\n",
       "        [12, 26]],\n",
       "\n",
       "       [[ 3, 18],\n",
       "        [ 6, 18],\n",
       "        [ 6, 20],\n",
       "        [ 7, 19]],\n",
       "\n",
       "       [[10, 20],\n",
       "        [ 7, 22],\n",
       "        [10, 22],\n",
       "        [ 7, 22]]])"
      ]
     },
     "execution_count": 9,
     "metadata": {},
     "output_type": "execute_result"
    }
   ],
   "source": [
    "#3.Print the daily temperatures for the first week of each month.\n",
    "l[:,:,:,1]"
   ]
  },
  {
   "cell_type": "code",
   "execution_count": 10,
   "id": "15b4df0c",
   "metadata": {},
   "outputs": [
    {
     "data": {
      "text/plain": [
       "array([[[24, 24, 24, 31, 20],\n",
       "        [29, 29, 24, 25, 28],\n",
       "        [30, 27, 28, 21, 27],\n",
       "        [29, 26, 30, 26, 22]],\n",
       "\n",
       "       [[21, 20, 19, 18, 20],\n",
       "        [21, 22, 21, 18, 20],\n",
       "        [20, 22, 22, 21, 21],\n",
       "        [21, 22, 21, 18, 18]]])"
      ]
     },
     "execution_count": 10,
     "metadata": {},
     "output_type": "execute_result"
    }
   ],
   "source": [
    "#4.Print the temperatures for Tuesday of each month.\n",
    "l[1::2,:,1,0:5]"
   ]
  },
  {
   "cell_type": "code",
   "execution_count": 11,
   "id": "9fe4ebd2",
   "metadata": {},
   "outputs": [
    {
     "data": {
      "text/plain": [
       "array([[31, 29, 30, 30],\n",
       "       [21, 22, 22, 22]])"
      ]
     },
     "execution_count": 11,
     "metadata": {},
     "output_type": "execute_result"
    }
   ],
   "source": [
    "#5.Print only the maximum temperature for all the weekdays of Dec and Feb.\n",
    "#month,all weeks,max/min,days\n",
    "np.amax(l[1::2,:,1,0:5],axis=2)"
   ]
  },
  {
   "cell_type": "code",
   "execution_count": 12,
   "id": "ef19bc5e",
   "metadata": {},
   "outputs": [
    {
     "data": {
      "text/plain": [
       "array([[20, 24, 21, 22],\n",
       "       [18, 18, 20, 18]])"
      ]
     },
     "execution_count": 12,
     "metadata": {},
     "output_type": "execute_result"
    }
   ],
   "source": [
    "np.amin(l[1::2,:,1,0:5],axis=2)"
   ]
  },
  {
   "cell_type": "code",
   "execution_count": 13,
   "id": "0deea2f9",
   "metadata": {},
   "outputs": [
    {
     "name": "stdout",
     "output_type": "stream",
     "text": [
      "[  6   7   7 -13   6   6   6   6   7]\n"
     ]
    }
   ],
   "source": [
    "#6.Print all the days along with the week number in November when theminimum temperature was less than 8 degrees.\n",
    "#p=index(ind)\n",
    "s=l[0,:,0,:]\n",
    "p=np.where(s<8)\n",
    "print(s[p])"
   ]
  },
  {
   "cell_type": "code",
   "execution_count": 14,
   "id": "80bb0ca0",
   "metadata": {},
   "outputs": [
    {
     "data": {
      "text/plain": [
       "array([[ 11,   8,   6,  12,   7,   9,   8],\n",
       "       [  7,  10,  10, -13,   8,  14,   9],\n",
       "       [  9,   6,  13,   8,   6,   6,  13],\n",
       "       [ 13,  13,  13,   6,  15,   7,   9]])"
      ]
     },
     "execution_count": 14,
     "metadata": {},
     "output_type": "execute_result"
    }
   ],
   "source": [
    "s"
   ]
  },
  {
   "cell_type": "code",
   "execution_count": 15,
   "id": "54c222f4",
   "metadata": {},
   "outputs": [
    {
     "data": {
      "text/plain": [
       "(array([0, 0, 1, 1, 2, 2, 2, 3, 3], dtype=int64),\n",
       " array([2, 4, 0, 3, 1, 4, 5, 3, 5], dtype=int64))"
      ]
     },
     "execution_count": 15,
     "metadata": {},
     "output_type": "execute_result"
    }
   ],
   "source": [
    "p"
   ]
  },
  {
   "cell_type": "code",
   "execution_count": 16,
   "id": "036840bd",
   "metadata": {},
   "outputs": [
    {
     "name": "stdout",
     "output_type": "stream",
     "text": [
      "weeks where days have temp greater than 20 in dec and jan\n",
      "\n",
      "DEC jan\n",
      "0    0\n",
      "0    0\n",
      "0    0\n",
      "0    0\n",
      "0    0\n",
      "0    0\n",
      "0    1\n",
      "0    1\n",
      "0    1\n",
      "0    1\n",
      "0    1\n",
      "0    1\n",
      "0    1\n",
      "0    2\n",
      "0    2\n",
      "0    2\n",
      "0    2\n",
      "0    2\n",
      "0    2\n",
      "0    2\n",
      "0    3\n",
      "0    3\n",
      "0    3\n",
      "0    3\n",
      "0    3\n",
      "0    3\n",
      "0    3\n",
      "1    0\n",
      "1    2\n",
      "1    3\n"
     ]
    }
   ],
   "source": [
    "#7.Print all the weeks in Dec and Jan where the maximum temperature has cro\n",
    "b=l[1:3,:,1,:]\n",
    "b[0,0,0]\n",
    "x=np.where(b>20)\n",
    "print(\"weeks where days have temp greater than 20 in dec and jan\")\n",
    "print()\n",
    "print('DEC jan')\n",
    "for i in range(len(x[0])):\n",
    "    print(x[0][i],\"  \", x[1][i])"
   ]
  },
  {
   "cell_type": "code",
   "execution_count": 17,
   "id": "697888d9",
   "metadata": {},
   "outputs": [
    {
     "data": {
      "text/plain": [
       "15.504464285714286"
      ]
     },
     "execution_count": 17,
     "metadata": {},
     "output_type": "execute_result"
    }
   ],
   "source": [
    "#8.Check if there are any absurd values present in the dataset(like some temp which should not be present in the data)\n",
    "# for all entire data\n",
    "np.mean(l)"
   ]
  },
  {
   "cell_type": "code",
   "execution_count": 18,
   "id": "cc23d69f",
   "metadata": {},
   "outputs": [
    {
     "data": {
      "text/plain": [
       "array([[[ 8.71428571, 28.        ],\n",
       "        [ 6.42857143, 26.14285714],\n",
       "        [ 8.71428571, 25.        ],\n",
       "        [10.85714286, 24.28571429]],\n",
       "\n",
       "       [[10.28571429, 25.42857143],\n",
       "        [10.71428571, 27.85714286],\n",
       "        [10.71428571, 27.        ],\n",
       "        [11.        , 27.42857143]],\n",
       "\n",
       "       [[ 6.28571429, 14.57142857],\n",
       "        [ 8.        , 15.14285714],\n",
       "        [ 8.        , 15.28571429],\n",
       "        [ 7.28571429, 15.57142857]],\n",
       "\n",
       "       [[ 8.85714286, 25.85714286],\n",
       "        [ 9.71428571, 16.71428571],\n",
       "        [10.57142857, 18.57142857],\n",
       "        [10.42857143, 16.71428571]]])"
      ]
     },
     "execution_count": 18,
     "metadata": {},
     "output_type": "execute_result"
    }
   ],
   "source": [
    "#along all axes\n",
    "np.mean(l,axis=3)"
   ]
  },
  {
   "cell_type": "code",
   "execution_count": 19,
   "id": "275ba501",
   "metadata": {},
   "outputs": [
    {
     "data": {
      "text/plain": [
       "17.267857142857142"
      ]
     },
     "execution_count": 19,
     "metadata": {},
     "output_type": "execute_result"
    }
   ],
   "source": [
    "np.mean(l[0])"
   ]
  },
  {
   "cell_type": "code",
   "execution_count": 20,
   "id": "0ae4ca51",
   "metadata": {},
   "outputs": [],
   "source": [
    "#9.What strategy would you use to handle such data points?\n",
    "#(array, 25th or 75th) inter quartile range method\n",
    "iqr=np.percentile(l,75)-np.percentile(l,25)"
   ]
  },
  {
   "cell_type": "code",
   "execution_count": 21,
   "id": "249891c0",
   "metadata": {},
   "outputs": [
    {
     "data": {
      "text/plain": [
       "14.25"
      ]
     },
     "execution_count": 21,
     "metadata": {},
     "output_type": "execute_result"
    }
   ],
   "source": [
    "iqr"
   ]
  },
  {
   "cell_type": "code",
   "execution_count": 22,
   "id": "ff5bb87d",
   "metadata": {},
   "outputs": [],
   "source": [
    "d=np.mean(l[0])-1.5*iqr\n",
    "e=np.mean(l[0])+1.5*iqr"
   ]
  },
  {
   "cell_type": "code",
   "execution_count": 23,
   "id": "64a53581",
   "metadata": {},
   "outputs": [
    {
     "data": {
      "text/plain": [
       "-4.107142857142858"
      ]
     },
     "execution_count": 23,
     "metadata": {},
     "output_type": "execute_result"
    }
   ],
   "source": [
    "d"
   ]
  },
  {
   "cell_type": "code",
   "execution_count": 24,
   "id": "638eed5a",
   "metadata": {},
   "outputs": [
    {
     "data": {
      "text/plain": [
       "(array([1], dtype=int64), array([0], dtype=int64), array([3], dtype=int64))"
      ]
     },
     "execution_count": 24,
     "metadata": {},
     "output_type": "execute_result"
    }
   ],
   "source": [
    "np.where(l[0]<d)"
   ]
  },
  {
   "cell_type": "code",
   "execution_count": 25,
   "id": "5f9f01d8",
   "metadata": {},
   "outputs": [
    {
     "data": {
      "text/plain": [
       "38.64285714285714"
      ]
     },
     "execution_count": 25,
     "metadata": {},
     "output_type": "execute_result"
    }
   ],
   "source": [
    "\n",
    "e"
   ]
  },
  {
   "cell_type": "code",
   "execution_count": 26,
   "id": "040e7289",
   "metadata": {},
   "outputs": [
    {
     "data": {
      "text/plain": [
       "(array([], dtype=int64), array([], dtype=int64), array([], dtype=int64))"
      ]
     },
     "execution_count": 26,
     "metadata": {},
     "output_type": "execute_result"
    }
   ],
   "source": [
    "#10.Find and print the indexes of all the outlier(unusual) values present in the above dataset\n",
    "np.where(l[0]>e)"
   ]
  },
  {
   "cell_type": "code",
   "execution_count": 27,
   "id": "717eed59",
   "metadata": {},
   "outputs": [],
   "source": [
    "iqr=np.percentile(l,75)-np.percentile(l,25)\n",
    "f=np.mean(l[1])-1.5*iqr\n",
    "g=np.mean(l[1])+1.5*iqr"
   ]
  },
  {
   "cell_type": "code",
   "execution_count": 28,
   "id": "ad57d3ee",
   "metadata": {},
   "outputs": [
    {
     "data": {
      "text/plain": [
       "-2.571428571428573"
      ]
     },
     "execution_count": 28,
     "metadata": {},
     "output_type": "execute_result"
    }
   ],
   "source": [
    "f"
   ]
  },
  {
   "cell_type": "code",
   "execution_count": 29,
   "id": "4b5e7735",
   "metadata": {},
   "outputs": [
    {
     "data": {
      "text/plain": [
       "40.17857142857143"
      ]
     },
     "execution_count": 29,
     "metadata": {},
     "output_type": "execute_result"
    }
   ],
   "source": [
    "g"
   ]
  },
  {
   "cell_type": "code",
   "execution_count": 30,
   "id": "451c65f3",
   "metadata": {},
   "outputs": [],
   "source": [
    "k=np.mean(l[2])-1.5*iqr\n",
    "c=np.mean([2])+1.5*iqr"
   ]
  },
  {
   "cell_type": "code",
   "execution_count": 31,
   "id": "c12da49f",
   "metadata": {},
   "outputs": [
    {
     "data": {
      "text/plain": [
       "-10.107142857142858"
      ]
     },
     "execution_count": 31,
     "metadata": {},
     "output_type": "execute_result"
    }
   ],
   "source": [
    "\n",
    "k"
   ]
  },
  {
   "cell_type": "code",
   "execution_count": 32,
   "id": "fa839b5f",
   "metadata": {},
   "outputs": [
    {
     "data": {
      "text/plain": [
       "23.375"
      ]
     },
     "execution_count": 32,
     "metadata": {},
     "output_type": "execute_result"
    }
   ],
   "source": [
    "c"
   ]
  },
  {
   "cell_type": "code",
   "execution_count": 33,
   "id": "a0df9553",
   "metadata": {},
   "outputs": [],
   "source": [
    "a=np.mean(l[3])-1.5*iqr\n",
    "b=np.mean(l[3])+1.5*iqr"
   ]
  },
  {
   "cell_type": "code",
   "execution_count": 34,
   "id": "21f36660",
   "metadata": {},
   "outputs": [
    {
     "data": {
      "text/plain": [
       "-6.696428571428571"
      ]
     },
     "execution_count": 34,
     "metadata": {},
     "output_type": "execute_result"
    }
   ],
   "source": [
    "a"
   ]
  },
  {
   "cell_type": "code",
   "execution_count": 35,
   "id": "4d4893b4",
   "metadata": {},
   "outputs": [
    {
     "data": {
      "text/plain": [
       "36.05357142857143"
      ]
     },
     "execution_count": 35,
     "metadata": {},
     "output_type": "execute_result"
    }
   ],
   "source": [
    "b"
   ]
  },
  {
   "cell_type": "code",
   "execution_count": 36,
   "id": "e56c1d0b",
   "metadata": {},
   "outputs": [],
   "source": [
    "#11.Find the average max temperature for the winter months in Jaipur.\n",
    "#nov=nov,all week,min temp, all days\n",
    "l[0][l[0]<1]=np.mean(l[0,:,0,:])\n",
    "l[0][l[0]>0]=np.mean(l[0,:,1,:])"
   ]
  },
  {
   "cell_type": "code",
   "execution_count": 37,
   "id": "4c7c32cb",
   "metadata": {},
   "outputs": [
    {
     "data": {
      "text/plain": [
       "array([[[11,  8, 11,  9, 13, 11,  9],\n",
       "        [24, 24, 24, 31, 20, 23, 32]],\n",
       "\n",
       "       [[13,  7, 10, 15, 13,  7, 10],\n",
       "        [29, 29, 24, 25, 28, 32, 28]],\n",
       "\n",
       "       [[ 8, 13,  8,  8, 15, 12, 11],\n",
       "        [30, 27, 28, 21, 27, 31, 25]],\n",
       "\n",
       "       [[13, 12, 15, 13, 11,  7,  6],\n",
       "        [29, 26, 30, 26, 22, 32, 27]]])"
      ]
     },
     "execution_count": 37,
     "metadata": {},
     "output_type": "execute_result"
    }
   ],
   "source": [
    "l[1]"
   ]
  },
  {
   "cell_type": "code",
   "execution_count": 38,
   "id": "2a6c3b8c",
   "metadata": {},
   "outputs": [
    {
     "data": {
      "text/plain": [
       "17.4375"
      ]
     },
     "execution_count": 38,
     "metadata": {},
     "output_type": "execute_result"
    }
   ],
   "source": [
    "s=np.average(l)\n",
    "np.max(s)"
   ]
  },
  {
   "cell_type": "code",
   "execution_count": 39,
   "id": "daac8d8d",
   "metadata": {},
   "outputs": [
    {
     "data": {
      "text/plain": [
       "17.4375"
      ]
     },
     "execution_count": 39,
     "metadata": {},
     "output_type": "execute_result"
    }
   ],
   "source": [
    "#12.Find the weekly min avg temp for the month of Dec in Jaipur\n",
    "t=np.average(l)\n",
    "np.min(t)"
   ]
  },
  {
   "cell_type": "code",
   "execution_count": 40,
   "id": "eaf13cff",
   "metadata": {},
   "outputs": [],
   "source": [
    "#13.Find the weekly min avg temp for the month of Dec in Jaipur\n",
    "l[l==24]=5"
   ]
  },
  {
   "cell_type": "code",
   "execution_count": 41,
   "id": "3f67240e",
   "metadata": {},
   "outputs": [
    {
     "data": {
      "text/plain": [
       "array([[[[ 25,  25,  25,  25,  25,  25,  25],\n",
       "         [ 25,  25,  25,  25,  25,  25,  25]],\n",
       "\n",
       "        [[ 25,  25,  25,  25,  25,  25,  25],\n",
       "         [ 25,  25,  25,  25,  25,  25,  25]],\n",
       "\n",
       "        [[ 25,  25,  25,  25,  25,  25,  25],\n",
       "         [ 25,  25,  25,  25,  25,  25,  25]],\n",
       "\n",
       "        [[ 25,  25,  25,  25,  25,  25,  25],\n",
       "         [ 25,  25,  25,  25,  25,  25,  25]]],\n",
       "\n",
       "\n",
       "       [[[ 11,   8,  11,   9,  13,  11,   9],\n",
       "         [  5,   5,   5,  31,  20,  23,  32]],\n",
       "\n",
       "        [[ 13,   7,  10,  15,  13,   7,  10],\n",
       "         [ 29,  29,   5,  25,  28,  32,  28]],\n",
       "\n",
       "        [[  8,  13,   8,   8,  15,  12,  11],\n",
       "         [ 30,  27,  28,  21,  27,  31,  25]],\n",
       "\n",
       "        [[ 13,  12,  15,  13,  11,   7,   6],\n",
       "         [ 29,  26,  30,  26,  22,  32,  27]]],\n",
       "\n",
       "\n",
       "       [[[  5,   3,   4,   5,   3,   3,  21],\n",
       "         [ 19,  18,  18,  18,  22,   2,   5]],\n",
       "\n",
       "        [[  5,   6,   6,   4,   7,   7,  21],\n",
       "         [ 20,  18,  19,  20,  20,   7,   2]],\n",
       "\n",
       "        [[  7,   6,   5,   7,   7,   5,  19],\n",
       "         [ 20,  20,  22,  18,  20,   4,   3]],\n",
       "\n",
       "        [[  8,   7,   6,   2,   6,   4,  18],\n",
       "         [ 20,  19,  22,  18,  19,   4,   7]]],\n",
       "\n",
       "\n",
       "       [[[  7,  10, -10,  11,  11,  11,  22],\n",
       "         [ 21,  20,  19,  18,  20,  71,  12]],\n",
       "\n",
       "        [[ 10,   7,   8,   7,  10,   7,  19],\n",
       "         [ 21,  22,  21,  18,  20,   7,   8]],\n",
       "\n",
       "        [[ 10,  10,  12,   7,   7,   7,  21],\n",
       "         [ 20,  22,  22,  21,  21,  12,  12]],\n",
       "\n",
       "        [[  7,   7,   8,  10,  11,  12,  18],\n",
       "         [ 21,  22,  21,  18,  18,  10,   7]]]])"
      ]
     },
     "execution_count": 41,
     "metadata": {},
     "output_type": "execute_result"
    }
   ],
   "source": [
    "l"
   ]
  },
  {
   "cell_type": "code",
   "execution_count": 42,
   "id": "aaf7a762",
   "metadata": {},
   "outputs": [],
   "source": [
    "u=np.average(l,1)"
   ]
  },
  {
   "cell_type": "code",
   "execution_count": 43,
   "id": "aab905e2",
   "metadata": {},
   "outputs": [
    {
     "data": {
      "text/plain": [
       "array([[[25.  , 25.  , 25.  , 25.  , 25.  , 25.  , 25.  ],\n",
       "        [25.  , 25.  , 25.  , 25.  , 25.  , 25.  , 25.  ]],\n",
       "\n",
       "       [[11.25, 10.  , 11.  , 11.25, 13.  ,  9.25,  9.  ],\n",
       "        [23.25, 21.75, 17.  , 25.75, 24.25, 29.5 , 28.  ]],\n",
       "\n",
       "       [[ 6.25,  5.5 ,  5.25,  4.5 ,  5.75,  4.75, 19.75],\n",
       "        [19.75, 18.75, 20.25, 18.5 , 20.25,  4.25,  4.25]],\n",
       "\n",
       "       [[ 8.5 ,  8.5 ,  4.5 ,  8.75,  9.75,  9.25, 20.  ],\n",
       "        [20.75, 21.5 , 20.75, 18.75, 19.75, 25.  ,  9.75]]])"
      ]
     },
     "execution_count": 43,
     "metadata": {},
     "output_type": "execute_result"
    }
   ],
   "source": [
    "u"
   ]
  },
  {
   "cell_type": "code",
   "execution_count": 44,
   "id": "b10c0c3e",
   "metadata": {},
   "outputs": [],
   "source": [
    "#14.Find the overall avg temp for the months Dec and Jan\n",
    "v=np.average(l,2)"
   ]
  },
  {
   "cell_type": "code",
   "execution_count": 45,
   "id": "6c5907aa",
   "metadata": {},
   "outputs": [
    {
     "data": {
      "text/plain": [
       "array([[[25. , 25. , 25. , 25. , 25. , 25. , 25. ],\n",
       "        [25. , 25. , 25. , 25. , 25. , 25. , 25. ],\n",
       "        [25. , 25. , 25. , 25. , 25. , 25. , 25. ],\n",
       "        [25. , 25. , 25. , 25. , 25. , 25. , 25. ]],\n",
       "\n",
       "       [[ 8. ,  6.5,  8. , 20. , 16.5, 17. , 20.5],\n",
       "        [21. , 18. ,  7.5, 20. , 20.5, 19.5, 19. ],\n",
       "        [19. , 20. , 18. , 14.5, 21. , 21.5, 18. ],\n",
       "        [21. , 19. , 22.5, 19.5, 16.5, 19.5, 16.5]],\n",
       "\n",
       "       [[12. , 10.5, 11. , 11.5, 12.5,  2.5, 13. ],\n",
       "        [12.5, 12. , 12.5, 12. , 13.5,  7. , 11.5],\n",
       "        [13.5, 13. , 13.5, 12.5, 13.5,  4.5, 11. ],\n",
       "        [14. , 13. , 14. , 10. , 12.5,  4. , 12.5]],\n",
       "\n",
       "       [[14. , 15. ,  4.5, 14.5, 15.5, 41. , 17. ],\n",
       "        [15.5, 14.5, 14.5, 12.5, 15. ,  7. , 13.5],\n",
       "        [15. , 16. , 17. , 14. , 14. ,  9.5, 16.5],\n",
       "        [14. , 14.5, 14.5, 14. , 14.5, 11. , 12.5]]])"
      ]
     },
     "execution_count": 45,
     "metadata": {},
     "output_type": "execute_result"
    }
   ],
   "source": [
    "v"
   ]
  },
  {
   "cell_type": "code",
   "execution_count": 46,
   "id": "c6ba0492",
   "metadata": {},
   "outputs": [],
   "source": [
    "#15.Find the least temp experienced by the city in the month of Dec and Jan. Also print the exact date( Day/Week/Month) for the same.\n",
    "k=np.min(l[1:3,:,:,:])\n",
    "m1={0:\"nov\",1:\"dec\",2:\"jan\",3:\"feb\"}\n",
    "w1={0:\"week(1)\",1:\"week(2)\",2:\"week(3)\",3:\"week(4)\"}\n",
    "d1={0:\"monday\",1:\"tuesday\",2:\"wednesday\",3:\"thrusday\",4:\"friday\",5:\"saturday\",6:\"sunday\"}\n"
   ]
  },
  {
   "cell_type": "code",
   "execution_count": 47,
   "id": "5a34d162",
   "metadata": {},
   "outputs": [
    {
     "data": {
      "text/plain": [
       "2"
      ]
     },
     "execution_count": 47,
     "metadata": {},
     "output_type": "execute_result"
    }
   ],
   "source": [
    "k"
   ]
  },
  {
   "cell_type": "code",
   "execution_count": 48,
   "id": "be80af8c",
   "metadata": {},
   "outputs": [
    {
     "data": {
      "text/plain": [
       "{0: 'nov', 1: 'dec', 2: 'jan', 3: 'feb'}"
      ]
     },
     "execution_count": 48,
     "metadata": {},
     "output_type": "execute_result"
    }
   ],
   "source": [
    "m1"
   ]
  },
  {
   "cell_type": "code",
   "execution_count": 49,
   "id": "e0ca9ce1",
   "metadata": {},
   "outputs": [
    {
     "data": {
      "text/plain": [
       "{0: 'week(1)', 1: 'week(2)', 2: 'week(3)', 3: 'week(4)'}"
      ]
     },
     "execution_count": 49,
     "metadata": {},
     "output_type": "execute_result"
    }
   ],
   "source": [
    "\n",
    "w1"
   ]
  },
  {
   "cell_type": "code",
   "execution_count": 50,
   "id": "22e96943",
   "metadata": {},
   "outputs": [
    {
     "data": {
      "text/plain": [
       "{0: 'monday',\n",
       " 1: 'tuesday',\n",
       " 2: 'wednesday',\n",
       " 3: 'thrusday',\n",
       " 4: 'friday',\n",
       " 5: 'saturday',\n",
       " 6: 'sunday'}"
      ]
     },
     "execution_count": 50,
     "metadata": {},
     "output_type": "execute_result"
    }
   ],
   "source": [
    "d1"
   ]
  },
  {
   "cell_type": "code",
   "execution_count": 51,
   "id": "137a07f9",
   "metadata": {},
   "outputs": [
    {
     "data": {
      "text/plain": [
       "(array([1, 1, 1], dtype=int64),\n",
       " array([0, 1, 3], dtype=int64),\n",
       " array([1, 1, 0], dtype=int64),\n",
       " array([5, 6, 3], dtype=int64))"
      ]
     },
     "execution_count": 51,
     "metadata": {},
     "output_type": "execute_result"
    }
   ],
   "source": [
    "#16.Find the max temp in the month of Feb and return its date(Day/Week/Month)\n",
    "z=np.where(l[1:3,:,:,:]==k)\n",
    "z"
   ]
  },
  {
   "cell_type": "code",
   "execution_count": 52,
   "id": "3459c739",
   "metadata": {},
   "outputs": [
    {
     "name": "stdout",
     "output_type": "stream",
     "text": [
      "dec   week(1)   tuesday\n",
      "dec   week(2)   tuesday\n",
      "dec   week(4)   monday\n"
     ]
    }
   ],
   "source": [
    "for i in range(len(z[0])):\n",
    "    print(m1[z[0][i]],\" \",w1[z[1][i]],\" \",d1[z[2][i]])"
   ]
  },
  {
   "cell_type": "code",
   "execution_count": 53,
   "id": "ed5ba1e7",
   "metadata": {},
   "outputs": [
    {
     "data": {
      "text/plain": [
       "71"
      ]
     },
     "execution_count": 53,
     "metadata": {},
     "output_type": "execute_result"
    }
   ],
   "source": [
    "l[3:,1,:]\n",
    "np.max(l)"
   ]
  },
  {
   "cell_type": "code",
   "execution_count": 54,
   "id": "6e981311",
   "metadata": {},
   "outputs": [
    {
     "data": {
      "text/plain": [
       "(array([], dtype=int64), array([], dtype=int64))"
      ]
     },
     "execution_count": 54,
     "metadata": {},
     "output_type": "execute_result"
    }
   ],
   "source": [
    "# 17Q Find the days in the month of Nov where the max temp of the day\n",
    "#dropped below the avg temp of the month. As\n",
    "a=l[0,:,1,:] \n",
    "a\n",
    "y=np.average(l[0])\n",
    "np.where(y>a)  # all nov maximume value  are not  less then to  average value"
   ]
  },
  {
   "cell_type": "code",
   "execution_count": 55,
   "id": "d3ad553d",
   "metadata": {},
   "outputs": [
    {
     "data": {
      "text/plain": [
       "25.0"
      ]
     },
     "execution_count": 55,
     "metadata": {},
     "output_type": "execute_result"
    }
   ],
   "source": [
    "y"
   ]
  },
  {
   "cell_type": "code",
   "execution_count": 56,
   "id": "26378406",
   "metadata": {},
   "outputs": [
    {
     "data": {
      "text/plain": [
       "array([[[[ 25,  11,   5,   7],\n",
       "         [ 25,  13,   5,  10],\n",
       "         [ 25,   8,   7,  10],\n",
       "         [ 25,  13,   8,   7]],\n",
       "\n",
       "        [[ 25,   5,  19,  21],\n",
       "         [ 25,  29,  20,  21],\n",
       "         [ 25,  30,  20,  20],\n",
       "         [ 25,  29,  20,  21]]],\n",
       "\n",
       "\n",
       "       [[[ 25,   8,   3,  10],\n",
       "         [ 25,   7,   6,   7],\n",
       "         [ 25,  13,   6,  10],\n",
       "         [ 25,  12,   7,   7]],\n",
       "\n",
       "        [[ 25,   5,  18,  20],\n",
       "         [ 25,  29,  18,  22],\n",
       "         [ 25,  27,  20,  22],\n",
       "         [ 25,  26,  19,  22]]],\n",
       "\n",
       "\n",
       "       [[[ 25,  11,   4, -10],\n",
       "         [ 25,  10,   6,   8],\n",
       "         [ 25,   8,   5,  12],\n",
       "         [ 25,  15,   6,   8]],\n",
       "\n",
       "        [[ 25,   5,  18,  19],\n",
       "         [ 25,   5,  19,  21],\n",
       "         [ 25,  28,  22,  22],\n",
       "         [ 25,  30,  22,  21]]],\n",
       "\n",
       "\n",
       "       [[[ 25,   9,   5,  11],\n",
       "         [ 25,  15,   4,   7],\n",
       "         [ 25,   8,   7,   7],\n",
       "         [ 25,  13,   2,  10]],\n",
       "\n",
       "        [[ 25,  31,  18,  18],\n",
       "         [ 25,  25,  20,  18],\n",
       "         [ 25,  21,  18,  21],\n",
       "         [ 25,  26,  18,  18]]],\n",
       "\n",
       "\n",
       "       [[[ 25,  13,   3,  11],\n",
       "         [ 25,  13,   7,  10],\n",
       "         [ 25,  15,   7,   7],\n",
       "         [ 25,  11,   6,  11]],\n",
       "\n",
       "        [[ 25,  20,  22,  20],\n",
       "         [ 25,  28,  20,  20],\n",
       "         [ 25,  27,  20,  21],\n",
       "         [ 25,  22,  19,  18]]],\n",
       "\n",
       "\n",
       "       [[[ 25,  11,   3,  11],\n",
       "         [ 25,   7,   7,   7],\n",
       "         [ 25,  12,   5,   7],\n",
       "         [ 25,   7,   4,  12]],\n",
       "\n",
       "        [[ 25,  23,   2,  71],\n",
       "         [ 25,  32,   7,   7],\n",
       "         [ 25,  31,   4,  12],\n",
       "         [ 25,  32,   4,  10]]],\n",
       "\n",
       "\n",
       "       [[[ 25,   9,  21,  22],\n",
       "         [ 25,  10,  21,  19],\n",
       "         [ 25,  11,  19,  21],\n",
       "         [ 25,   6,  18,  18]],\n",
       "\n",
       "        [[ 25,  32,   5,  12],\n",
       "         [ 25,  28,   2,   8],\n",
       "         [ 25,  25,   3,  12],\n",
       "         [ 25,  27,   7,   7]]]])"
      ]
     },
     "execution_count": 56,
     "metadata": {},
     "output_type": "execute_result"
    }
   ],
   "source": [
    "#q18.Convert the above dataset into an array where the weeks of the same month must be present in the same row, but belonging to different months should come in a row either below or above the selected month.\n",
    "\n",
    "np.transpose(l)"
   ]
  },
  {
   "cell_type": "code",
   "execution_count": 57,
   "id": "4a53c823",
   "metadata": {},
   "outputs": [
    {
     "name": "stdout",
     "output_type": "stream",
     "text": [
      "temp in fahrenheit: [[[[ 77.   77.   77.   77.   77.   77.   77. ]\n",
      "   [ 77.   77.   77.   77.   77.   77.   77. ]]\n",
      "\n",
      "  [[ 77.   77.   77.   77.   77.   77.   77. ]\n",
      "   [ 77.   77.   77.   77.   77.   77.   77. ]]\n",
      "\n",
      "  [[ 77.   77.   77.   77.   77.   77.   77. ]\n",
      "   [ 77.   77.   77.   77.   77.   77.   77. ]]\n",
      "\n",
      "  [[ 77.   77.   77.   77.   77.   77.   77. ]\n",
      "   [ 77.   77.   77.   77.   77.   77.   77. ]]]\n",
      "\n",
      "\n",
      " [[[ 51.8  46.4  51.8  48.2  55.4  51.8  48.2]\n",
      "   [ 41.   41.   41.   87.8  68.   73.4  89.6]]\n",
      "\n",
      "  [[ 55.4  44.6  50.   59.   55.4  44.6  50. ]\n",
      "   [ 84.2  84.2  41.   77.   82.4  89.6  82.4]]\n",
      "\n",
      "  [[ 46.4  55.4  46.4  46.4  59.   53.6  51.8]\n",
      "   [ 86.   80.6  82.4  69.8  80.6  87.8  77. ]]\n",
      "\n",
      "  [[ 55.4  53.6  59.   55.4  51.8  44.6  42.8]\n",
      "   [ 84.2  78.8  86.   78.8  71.6  89.6  80.6]]]\n",
      "\n",
      "\n",
      " [[[ 41.   37.4  39.2  41.   37.4  37.4  69.8]\n",
      "   [ 66.2  64.4  64.4  64.4  71.6  35.6  41. ]]\n",
      "\n",
      "  [[ 41.   42.8  42.8  39.2  44.6  44.6  69.8]\n",
      "   [ 68.   64.4  66.2  68.   68.   44.6  35.6]]\n",
      "\n",
      "  [[ 44.6  42.8  41.   44.6  44.6  41.   66.2]\n",
      "   [ 68.   68.   71.6  64.4  68.   39.2  37.4]]\n",
      "\n",
      "  [[ 46.4  44.6  42.8  35.6  42.8  39.2  64.4]\n",
      "   [ 68.   66.2  71.6  64.4  66.2  39.2  44.6]]]\n",
      "\n",
      "\n",
      " [[[ 44.6  50.   14.   51.8  51.8  51.8  71.6]\n",
      "   [ 69.8  68.   66.2  64.4  68.  159.8  53.6]]\n",
      "\n",
      "  [[ 50.   44.6  46.4  44.6  50.   44.6  66.2]\n",
      "   [ 69.8  71.6  69.8  64.4  68.   44.6  46.4]]\n",
      "\n",
      "  [[ 50.   50.   53.6  44.6  44.6  44.6  69.8]\n",
      "   [ 68.   71.6  71.6  69.8  69.8  53.6  53.6]]\n",
      "\n",
      "  [[ 44.6  44.6  46.4  50.   51.8  53.6  64.4]\n",
      "   [ 69.8  71.6  69.8  64.4  64.4  50.   44.6]]]]\n"
     ]
    }
   ],
   "source": [
    "#q19.The above data is appropriate for an audience who follow the metric system of measurement. Create an array that holds the same data but presented in Fahrenheit.\n",
    "cel=l\n",
    "fahrenheit=(cel*1.8)+32\n",
    "print(\"temp in fahrenheit:\",fahrenheit)"
   ]
  },
  {
   "cell_type": "code",
   "execution_count": 58,
   "id": "4c6920a2",
   "metadata": {},
   "outputs": [
    {
     "name": "stdout",
     "output_type": "stream",
     "text": [
      "13.785714285714286\n",
      "17.928571428571427\n",
      "18.857142857142858\n",
      "19.214285714285715\n"
     ]
    }
   ],
   "source": [
    "#q20.Sort the above data in descending order on the basis of weekly average for the month of Dec.\n",
    "a=np.average(l[1,0])\n",
    "b=np.average(l[1,1]) \n",
    "c=np.average(l[1,2])\n",
    "d=np.average(l[1,3]) \n",
    "print(a)\n",
    "print(b)\n",
    "print(c)\n",
    "print(d)"
   ]
  },
  {
   "cell_type": "code",
   "execution_count": 59,
   "id": "ada98100",
   "metadata": {},
   "outputs": [
    {
     "name": "stdout",
     "output_type": "stream",
     "text": [
      "[13.78571429 17.92857143 18.85714286 19.21428571]\n"
     ]
    }
   ],
   "source": [
    "h=np.array([a,b,c,d])\n",
    "print(h)"
   ]
  },
  {
   "cell_type": "code",
   "execution_count": 60,
   "id": "adabf8af",
   "metadata": {},
   "outputs": [
    {
     "data": {
      "text/plain": [
       "array([19.21428571, 18.85714286, 17.92857143, 13.78571429])"
      ]
     },
     "execution_count": 60,
     "metadata": {},
     "output_type": "execute_result"
    }
   ],
   "source": [
    "np.sort(h)[::-1]"
   ]
  },
  {
   "cell_type": "code",
   "execution_count": 61,
   "id": "d54378fb",
   "metadata": {},
   "outputs": [
    {
     "name": "stdout",
     "output_type": "stream",
     "text": [
      "25.0\n",
      "15.708333333333334\n",
      "12.625\n",
      "14.083333333333334\n"
     ]
    }
   ],
   "source": [
    "#q21.Sort the temp of the first three days of each month in descending order on the basis of overall average for the whole winter.\n",
    "a=np.average(l[0,:,:,0:3])\n",
    "print(a)\n",
    "b=np.average(l[1,:,:,0:3])\n",
    "print(b)\n",
    "c=np.average(l[2,:,:,0:3])\n",
    "print(c)\n",
    "d=np.average(l[3,:,:,0:3])\n",
    "print(d)"
   ]
  },
  {
   "cell_type": "code",
   "execution_count": 62,
   "id": "02712bf0",
   "metadata": {},
   "outputs": [
    {
     "name": "stdout",
     "output_type": "stream",
     "text": [
      "16.854166666666668\n"
     ]
    }
   ],
   "source": [
    "e=np.average(l[:,:,:,0:3])\n",
    "print(e)"
   ]
  },
  {
   "cell_type": "code",
   "execution_count": 63,
   "id": "4d1fda04",
   "metadata": {},
   "outputs": [
    {
     "name": "stdout",
     "output_type": "stream",
     "text": [
      "[25.         15.70833333 12.625      14.08333333]\n"
     ]
    }
   ],
   "source": [
    "f=np.array([a,b,c,d])\n",
    "print(f)"
   ]
  },
  {
   "cell_type": "code",
   "execution_count": 64,
   "id": "075fb9c5",
   "metadata": {},
   "outputs": [
    {
     "data": {
      "text/plain": [
       "array([25.        , 15.70833333, 14.08333333, 12.625     ])"
      ]
     },
     "execution_count": 64,
     "metadata": {},
     "output_type": "execute_result"
    }
   ],
   "source": [
    "np.sort(f)[::-1]"
   ]
  },
  {
   "cell_type": "code",
   "execution_count": 65,
   "id": "2f3064bc",
   "metadata": {},
   "outputs": [
    {
     "name": "stdout",
     "output_type": "stream",
     "text": [
      "[[[  0   0   0   0   0   0   0]\n",
      "  [  0   0   0   0   0   0   0]\n",
      "  [  0   0   0   0   0   0   0]\n",
      "  [  0   0   0   0   0   0   0]]\n",
      "\n",
      " [[ -6  -3  -6  22   7  12  23]\n",
      "  [ 16  22  -5  10  15  25  18]\n",
      "  [ 22  14  20  13  12  19  14]\n",
      "  [ 16  14  15  13  11  25  21]]\n",
      "\n",
      " [[ 14  15  14  13  19  -1 -16]\n",
      "  [ 15  12  13  16  13   0 -19]\n",
      "  [ 13  14  17  11  13  -1 -16]\n",
      "  [ 12  12  16  16  13   0 -11]]\n",
      "\n",
      " [[ 14  10  29   7   9  60 -10]\n",
      "  [ 11  15  13  11  10   0 -11]\n",
      "  [ 10  12  10  14  14   5  -9]\n",
      "  [ 14  15  13   8   7  -2 -11]]]\n"
     ]
    }
   ],
   "source": [
    "#q22.Create an array that stores the difference between the min and max temp for each day in all the winter months.\n",
    "a=l[:,:,0,:]\n",
    "b=l[:,:,1,:]\n",
    "dif=b-a\n",
    "print(dif)"
   ]
  },
  {
   "cell_type": "code",
   "execution_count": 66,
   "id": "01970d3a",
   "metadata": {},
   "outputs": [
    {
     "name": "stdout",
     "output_type": "stream",
     "text": [
      "[[[  0   0   0   0   0   0]\n",
      "  [  0   0   0   0   0   0]\n",
      "  [  0   0   0   0   0   0]\n",
      "  [  0   0   0   0   0   0]]\n",
      "\n",
      " [[  0   0  26 -11   3   9]\n",
      "  [  0 -24  20   3   4  -4]\n",
      "  [ -3   1  -7   6   4  -6]\n",
      "  [ -3   4  -4  -4  10  -5]]\n",
      "\n",
      " [[ -1   0   0   4 -20   3]\n",
      "  [ -2   1   1   0 -13  -5]\n",
      "  [  0   2  -4   2 -16  -1]\n",
      "  [ -1   3  -4   1 -15   3]]\n",
      "\n",
      " [[ -1  -1  -1   2  51 -59]\n",
      "  [  1  -1  -3   2 -13   1]\n",
      "  [  2   0  -1   0  -9   0]\n",
      "  [  1  -1  -3   0  -8  -3]]]\n"
     ]
    }
   ],
   "source": [
    "#q23.Find and store the difference between the max temp of two consecutive days for each month of winter season.\n",
    "s=l[:,:,1,:]\n",
    "arr=np.diff(s,axis=2)\n",
    "print(arr)"
   ]
  },
  {
   "cell_type": "code",
   "execution_count": 67,
   "id": "789147f8",
   "metadata": {},
   "outputs": [
    {
     "name": "stdout",
     "output_type": "stream",
     "text": [
      "[[[  0   0   0   0   0   0]\n",
      "  [  0   0   0   0   0   0]\n",
      "  [  0   0   0   0   0   0]\n",
      "  [  0   0   0   0   0   0]]\n",
      "\n",
      " [[ -3   3  -2   4  -2  -2]\n",
      "  [ -6   3   5  -2  -6   3]\n",
      "  [  5  -5   0   7  -3  -1]\n",
      "  [ -1   3  -2  -2  -4  -1]]\n",
      "\n",
      " [[ -2   1   1  -2   0  18]\n",
      "  [  1   0  -2   3   0  14]\n",
      "  [ -1  -1   2   0  -2  14]\n",
      "  [ -1  -1  -4   4  -2  14]]\n",
      "\n",
      " [[  3 -20  21   0   0  11]\n",
      "  [ -3   1  -1   3  -3  12]\n",
      "  [  0   2  -5   0   0  14]\n",
      "  [  0   1   2   1   1   6]]]\n"
     ]
    }
   ],
   "source": [
    "#q24.Find and store the difference between the minimum temp of two consecutive days for each month of the winter season.\n",
    "u=l[:,:,0,:]\n",
    "arr=np.diff(u,axis=2)\n",
    "print(arr)"
   ]
  },
  {
   "cell_type": "code",
   "execution_count": 68,
   "id": "bd0b4fa6",
   "metadata": {},
   "outputs": [
    {
     "data": {
      "text/plain": [
       "array([ 25,  25,  25,  25,  25,  25,  25,  25,  25,  25,  25,  25,  25,\n",
       "        25,  25,  25,  25,  25,  25,  25,  25,  25,  25,  25,  25,  25,\n",
       "        25,  25,   5,   5,   5,  31,  20,  23,  32,  29,  29,   5,  25,\n",
       "        28,  32,  28,  30,  27,  28,  21,  27,  31,  25,  29,  26,  30,\n",
       "        26,  22,  32,  27,  19,  18,  18,  18,  22,   2,   5,  20,  18,\n",
       "        19,  20,  20,   7,   2,  20,  20,  22,  18,  20,   4,   3,  20,\n",
       "        19,  22,  18,  19,   4,   7,  21,  20,  19,  18,  20,  71,  12,\n",
       "        21,  22,  21,  18,  20,   7,   8,  20,  22,  22,  21,  21,  12,\n",
       "        12,  21,  22,  21,  18,  18,  10,   7,  25,  25,  25,  25,  25,\n",
       "        25,  25,  25,  25,  25,  25,  25,  25,  25,  25,  25,  25,  25,\n",
       "        25,  25,  25,  25,  25,  25,  25,  25,  25,  25,  11,   8,  11,\n",
       "         9,  13,  11,   9,  13,   7,  10,  15,  13,   7,  10,   8,  13,\n",
       "         8,   8,  15,  12,  11,  13,  12,  15,  13,  11,   7,   6,   5,\n",
       "         3,   4,   5,   3,   3,  21,   5,   6,   6,   4,   7,   7,  21,\n",
       "         7,   6,   5,   7,   7,   5,  19,   8,   7,   6,   2,   6,   4,\n",
       "        18,   7,  10, -10,  11,  11,  11,  22,  10,   7,   8,   7,  10,\n",
       "         7,  19,  10,  10,  12,   7,   7,   7,  21,   7,   7,   8,  10,\n",
       "        11,  12,  18])"
      ]
     },
     "execution_count": 68,
     "metadata": {},
     "output_type": "execute_result"
    }
   ],
   "source": [
    "#q25.Create an array by combining the data present in arrays created in q.23 and q.24, to store the difference between the min and max temp of each day of all the months for the whole winter season, in a single array\n",
    "add_array=np.concatenate([s,u])\n",
    "add_array.flatten()"
   ]
  },
  {
   "cell_type": "code",
   "execution_count": null,
   "id": "d038aa2e",
   "metadata": {},
   "outputs": [],
   "source": []
  }
 ],
 "metadata": {
  "kernelspec": {
   "display_name": "Python 3 (ipykernel)",
   "language": "python",
   "name": "python3"
  },
  "language_info": {
   "codemirror_mode": {
    "name": "ipython",
    "version": 3
   },
   "file_extension": ".py",
   "mimetype": "text/x-python",
   "name": "python",
   "nbconvert_exporter": "python",
   "pygments_lexer": "ipython3",
   "version": "3.9.10"
  }
 },
 "nbformat": 4,
 "nbformat_minor": 5
}
